{
 "cells": [
  {
   "cell_type": "code",
   "execution_count": 3,
   "id": "74b614aa",
   "metadata": {},
   "outputs": [
    {
     "name": "stdout",
     "output_type": "stream",
     "text": [
      "Enter value of number (x) :- 10\n",
      "Enter power of number (n) :- 2\n",
      "The Expected output = 100\n"
     ]
    }
   ],
   "source": [
    "#Write a Python class to implement pow(x, n)\n",
    "#Sample Input:\n",
    "#x: 10\n",
    "#n: 2\n",
    "\n",
    "from ast import literal_eval\n",
    "class Power:\n",
    "    def __init__(self, x, n ):\n",
    "        self.x = x\n",
    "        self.n = n\n",
    "        \n",
    "    def power_number(self):\n",
    "        if isinstance(self.x, (int,float)):        # check whether x object belong to int, float class    \n",
    "            if isinstance(self.n, (int, float)):   # check whether x object belong to int, float class \n",
    "                if self.x == 0:\n",
    "                    if self.n <=0:\n",
    "                        return (\"Math Domin Error \")   # checking its belong to maths domin or not\n",
    "                    else:\n",
    "                        return 0                      \n",
    "                elif self.n == 0:                   #  checking whether power is 0 or not  \n",
    "                    return 1\n",
    "                elif self.n < 0:                    # checking whether power is inverse or not       \n",
    "                    self.n = abs(self.n)\n",
    "                    x = 1/(self.x**self.n)\n",
    "                    return x\n",
    "                else:\n",
    "                    res = self.x**self.n\n",
    "                    return res\n",
    "            else: \n",
    "                return (\"Not a valid number\")      \n",
    "        else: \n",
    "            return (\"Not a valid number\")\n",
    "    \n",
    "x = literal_eval(input(\"Enter value of number (x) :- \"))     # using literal_eval with input to take input from user\n",
    "n = literal_eval(input(\"Enter power of number (n) :- \"))\n",
    "obj1 = Power(x,n)\n",
    "result = obj1.power_number()\n",
    "print(\"The Expected output = {}\".format(result)) "
   ]
  },
  {
   "cell_type": "code",
   "execution_count": 4,
   "id": "ccc7a6f1",
   "metadata": {},
   "outputs": [
    {
     "name": "stdout",
     "output_type": "stream",
     "text": [
      "Enter base number :- 10\n",
      "Enter power number :- 2\n",
      "The Expected output = 100\n"
     ]
    }
   ],
   "source": [
    "#Write a Python class to implement pow(x, n)\n",
    "#Sample Input:\n",
    "#x: 10\n",
    "#n: 2\n",
    "from ast import literal_eval\n",
    "class Power:\n",
    "    def __init__(self, x, n ):    \n",
    "        self.x = x\n",
    "        self.n = n\n",
    "        \n",
    "    def power_number(self):                  # using pow(base, exponent) power function\n",
    "        res = pow(self.x, self.n)\n",
    "        return res\n",
    "    \n",
    "x = literal_eval(input(\"Enter base number :- \"))    # using literal_eval with input to take input from user\n",
    "n = literal_eval(input(\"Enter power number :- \"))          \n",
    "obj1 = Power(x,n)\n",
    "print(\"The Expected output =\", obj1.power_number())            "
   ]
  },
  {
   "cell_type": "code",
   "execution_count": null,
   "id": "beac33e1",
   "metadata": {},
   "outputs": [],
   "source": []
  }
 ],
 "metadata": {
  "kernelspec": {
   "display_name": "Python 3 (ipykernel)",
   "language": "python",
   "name": "python3"
  },
  "language_info": {
   "codemirror_mode": {
    "name": "ipython",
    "version": 3
   },
   "file_extension": ".py",
   "mimetype": "text/x-python",
   "name": "python",
   "nbconvert_exporter": "python",
   "pygments_lexer": "ipython3",
   "version": "3.9.12"
  }
 },
 "nbformat": 4,
 "nbformat_minor": 5
}
